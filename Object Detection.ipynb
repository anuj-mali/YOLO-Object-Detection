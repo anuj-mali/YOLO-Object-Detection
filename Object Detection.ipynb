{
 "cells": [
  {
   "cell_type": "markdown",
   "id": "09054e75-182a-41c3-a33e-94597fd9998f",
   "metadata": {},
   "source": [
    "# Object Detection Using YOLO"
   ]
  },
  {
   "cell_type": "markdown",
   "id": "a0486d67-c6a0-40a8-9b8d-45d8d1d3cd75",
   "metadata": {},
   "source": [
    "## Dependencies"
   ]
  },
  {
   "cell_type": "code",
   "execution_count": 3,
   "id": "c6e6204c-cf2e-49a6-96ae-a20a2378a5a0",
   "metadata": {},
   "outputs": [],
   "source": [
    "import torch\n",
    "from torch import nn\n",
    "from torch.utils.data import DataLoader\n",
    "from torch.optim import Adam\n",
    "\n",
    "from torchvision.datasets import VOCDetection\n",
    "from torchvision.transforms import v2, ToTensor\n",
    "\n",
    "from matplotlib import pyplot as plt"
   ]
  },
  {
   "cell_type": "markdown",
   "id": "f744840f-e4c7-4e89-812f-74deeb57c77e",
   "metadata": {},
   "source": [
    "## Device Agnostic Code"
   ]
  },
  {
   "cell_type": "code",
   "execution_count": 4,
   "id": "75e27fae-9928-4d2b-9c51-89ad22fc85f6",
   "metadata": {},
   "outputs": [
    {
     "data": {
      "text/plain": [
       "'cuda'"
      ]
     },
     "execution_count": 4,
     "metadata": {},
     "output_type": "execute_result"
    }
   ],
   "source": [
    "device = 'cuda' if torch.cuda.is_available() else 'cpu'\n",
    "device"
   ]
  },
  {
   "cell_type": "markdown",
   "id": "a1eb6b7f-f84f-4176-ae58-598519139498",
   "metadata": {},
   "source": [
    "## Dataset and Dataloaders"
   ]
  },
  {
   "cell_type": "markdown",
   "id": "7154db67-d2ad-4f3c-9fc1-af3b85c3dcaa",
   "metadata": {},
   "source": [
    "### Data Transformation"
   ]
  },
  {
   "cell_type": "code",
   "execution_count": null,
   "id": "ce9c763d-7347-41c7-9515-e864ba85253a",
   "metadata": {},
   "outputs": [],
   "source": []
  },
  {
   "cell_type": "markdown",
   "id": "c9ef41db-0377-419d-80d0-b859f2412112",
   "metadata": {},
   "source": [
    "### Dataset"
   ]
  },
  {
   "cell_type": "code",
   "execution_count": null,
   "id": "9773a3ce-58b0-4c59-ab90-0cab4b4d6d90",
   "metadata": {},
   "outputs": [],
   "source": []
  },
  {
   "cell_type": "markdown",
   "id": "db916855-d963-4e29-b6fd-beec97658d98",
   "metadata": {},
   "source": [
    "### DataLoaders"
   ]
  },
  {
   "cell_type": "code",
   "execution_count": null,
   "id": "0674c3a5-93c3-4972-8f2f-7a47a18b7fa3",
   "metadata": {},
   "outputs": [],
   "source": []
  },
  {
   "cell_type": "markdown",
   "id": "7b5b2f4b-9b94-40f0-8b1c-0add909765ad",
   "metadata": {},
   "source": [
    "## Train and Test Functions"
   ]
  },
  {
   "cell_type": "code",
   "execution_count": null,
   "id": "4f31f638-53d7-42ff-898e-f341286a9819",
   "metadata": {},
   "outputs": [],
   "source": []
  },
  {
   "cell_type": "markdown",
   "id": "29852185-bb31-45b4-9803-8814395c11dc",
   "metadata": {},
   "source": [
    "## Model"
   ]
  },
  {
   "cell_type": "code",
   "execution_count": null,
   "id": "3940d1df-343a-4e33-9f79-b4ef1e99b10b",
   "metadata": {},
   "outputs": [],
   "source": []
  },
  {
   "cell_type": "code",
   "execution_count": null,
   "id": "770910d9-d687-4c35-ba01-c1e751a658b0",
   "metadata": {},
   "outputs": [],
   "source": []
  },
  {
   "cell_type": "markdown",
   "id": "0adf46a9-54b9-4312-b8fd-1711864ec42a",
   "metadata": {},
   "source": [
    "## Training"
   ]
  },
  {
   "cell_type": "code",
   "execution_count": null,
   "id": "b8efee09-e7d7-4aa4-bcb6-636016a94af1",
   "metadata": {},
   "outputs": [],
   "source": []
  },
  {
   "cell_type": "markdown",
   "id": "709c0b9f-4b1c-4424-b32d-dd321b7c89e0",
   "metadata": {},
   "source": [
    "### Loss Curves"
   ]
  },
  {
   "cell_type": "code",
   "execution_count": null,
   "id": "88f8e73f-909b-4167-8025-f380dddf7330",
   "metadata": {},
   "outputs": [],
   "source": []
  }
 ],
 "metadata": {
  "kernelspec": {
   "display_name": "Python 3 (ipykernel)",
   "language": "python",
   "name": "python3"
  },
  "language_info": {
   "codemirror_mode": {
    "name": "ipython",
    "version": 3
   },
   "file_extension": ".py",
   "mimetype": "text/x-python",
   "name": "python",
   "nbconvert_exporter": "python",
   "pygments_lexer": "ipython3",
   "version": "3.12.2"
  }
 },
 "nbformat": 4,
 "nbformat_minor": 5
}
